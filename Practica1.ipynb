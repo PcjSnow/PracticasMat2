{
 "cells": [
  {
   "cell_type": "markdown",
   "metadata": {},
   "source": [
    "$$\n",
    "\\def\\CC{\\bf C}\n",
    "\\def\\QQ{\\bf Q}\n",
    "\\def\\RR{\\bf R}\n",
    "\\def\\ZZ{\\bf Z}\n",
    "\\def\\NN{\\bf N}\n",
    "$$\n",
    "\n",
    "# Práctica 1\n",
    "\n",
    "El objetivo principal de esta práctica es repasar los conceptos sobre conjuntos, estructuras algebraicas y cuerpos finitos que se han visto en clase de teoría, así como ver las ventajas que ofrece SAGE para trabajar con este tipo de elementos. Para ello, combinaremos ejercicios y problemas que habrá que resolver a mano, con otros en los que será necesario el uso del ordenador. La práctica está dividida en dos partes bien diferenciadas: una relacionada con conjuntos y aplicaciones, y en la que se da un repaso a las definiciones de grupo, anillo y cuerpo, y otra en la que se trabajará específicamente con cuerpos finitos.<br>\n",
    "(Nota: La numeración de las definiciones y proposiciones coincide con la de los apuntes de la asignatura. Para más detalle, consultar dichos apuntes)."
   ]
  },
  {
   "cell_type": "markdown",
   "metadata": {},
   "source": [
    "## 1.1 Conjuntos, aplicaciones y estructuras algebraicas\n",
    "### 1.1.1 Conjuntos\n",
    "------------------------------------------------------------------------"
   ]
  },
  {
   "cell_type": "markdown",
   "metadata": {},
   "source": [
    "En SAGE, un conjunto se crea con la función *Set()* y pasándole como argumento una lista de elementos:"
   ]
  },
  {
   "cell_type": "code",
   "execution_count": 1,
   "metadata": {},
   "outputs": [
    {
     "data": {
      "text/plain": [
       "{1, 2, 3}"
      ]
     },
     "execution_count": 1,
     "metadata": {},
     "output_type": "execute_result"
    }
   ],
   "source": [
    "v = [1, 1, 2, 3]\n",
    "X = Set(v)\n",
    "X"
   ]
  },
  {
   "cell_type": "markdown",
   "metadata": {},
   "source": [
    "La lista de elementos no tiene por qué contener números:"
   ]
  },
  {
   "cell_type": "code",
   "execution_count": 2,
   "metadata": {},
   "outputs": [
    {
     "data": {
      "text/plain": [
       "{'a', 'b', 'c'}"
      ]
     },
     "execution_count": 2,
     "metadata": {},
     "output_type": "execute_result"
    }
   ],
   "source": [
    "v = ['a', 'b', 'c']\n",
    "X = Set(v)\n",
    "X"
   ]
  },
  {
   "cell_type": "markdown",
   "metadata": {},
   "source": [
    "Incluso se pueden proporcionar listas heterogéneas, con elementos de diferentes tipos:"
   ]
  },
  {
   "cell_type": "code",
   "execution_count": 3,
   "metadata": {},
   "outputs": [
    {
     "data": {
      "text/plain": [
       "{'a', 1, 'c'}"
      ]
     },
     "execution_count": 3,
     "metadata": {},
     "output_type": "execute_result"
    }
   ],
   "source": [
    "v = ['a', 1, 'c']\n",
    "X = Set(v)\n",
    "X"
   ]
  },
  {
   "cell_type": "markdown",
   "metadata": {},
   "source": [
    "Para saber el número de elementos de un conjunto, se utiliza la función *cardinality()*:"
   ]
  },
  {
   "cell_type": "code",
   "execution_count": 4,
   "metadata": {},
   "outputs": [
    {
     "data": {
      "text/plain": [
       "3"
      ]
     },
     "execution_count": 4,
     "metadata": {},
     "output_type": "execute_result"
    }
   ],
   "source": [
    "X.cardinality()"
   ]
  },
  {
   "cell_type": "markdown",
   "metadata": {},
   "source": [
    "Dado un conjunto X, si quieramos obtener a mano todos los posibles subconjuntos que se pueden obtener a partir de él, nos podría llevar mucho tiempo, pero SAGE nos permite calcular dicha lista mediante la función *subsets()*:"
   ]
  },
  {
   "cell_type": "code",
   "execution_count": 5,
   "metadata": {},
   "outputs": [
    {
     "data": {
      "text/plain": [
       "[{}, {'a'}, {1}, {'c'}, {'a', 1}, {'a', 'c'}, {1, 'c'}, {'a', 1, 'c'}]"
      ]
     },
     "execution_count": 5,
     "metadata": {},
     "output_type": "execute_result"
    }
   ],
   "source": [
    "list(X.subsets())"
   ]
  },
  {
   "cell_type": "markdown",
   "metadata": {},
   "source": [
    "Con estos conjuntos, también podemos calcular los conjuntos *unión* e *intersección* con los siguientes comandos:"
   ]
  },
  {
   "cell_type": "code",
   "execution_count": 17,
   "metadata": {},
   "outputs": [],
   "source": [
    "Y = Set([1, 5, 7, 'a'])"
   ]
  },
  {
   "cell_type": "code",
   "execution_count": 18,
   "metadata": {},
   "outputs": [
    {
     "data": {
      "text/plain": [
       "{'a', 1, 'c', 5, 7}"
      ]
     },
     "execution_count": 18,
     "metadata": {},
     "output_type": "execute_result"
    }
   ],
   "source": [
    "X.union(Y)"
   ]
  },
  {
   "cell_type": "code",
   "execution_count": 19,
   "metadata": {},
   "outputs": [
    {
     "data": {
      "text/plain": [
       "{'a', 1}"
      ]
     },
     "execution_count": 19,
     "metadata": {},
     "output_type": "execute_result"
    }
   ],
   "source": [
    "X.intersection(Y)"
   ]
  },
  {
   "cell_type": "code",
   "execution_count": 16,
   "metadata": {},
   "outputs": [
    {
     "data": {
      "text/plain": [
       "8"
      ]
     },
     "execution_count": 16,
     "metadata": {},
     "output_type": "execute_result"
    }
   ],
   "source": [
    "(factorial(3) / (factorial(2) * factorial(1))) + (factorial(3) / (factorial(3) * factorial(0))) + (factorial(3) / (factorial(1) * factorial(2))) + 1"
   ]
  },
  {
   "cell_type": "markdown",
   "metadata": {},
   "source": [
    "**Definición 1.2**: Dados dos conjuntos $A$ y $B$, el producto directo o cartesiano es el conjunto <br>\n",
    "<center>$A \\times B = \\{(a,b) | a\\in A, b\\in B\\}$<\\center>\n",
    "    \n",
    "Al igual que ocurría con los subconjuntos, SAGE nos permite calcular directamente el conjunto $A \\times B$ mediante la función *cartesian_product()*:"
   ]
  },
  {
   "cell_type": "code",
   "execution_count": 20,
   "metadata": {},
   "outputs": [
    {
     "name": "stdout",
     "output_type": "stream",
     "text": [
      "Factores ({'a', 1, 'c'}, {'a', 1, 5, 7})\n",
      "Cardinalidad del conjunto producto 12\n",
      "Elemento aleatorio (1, 1)\n",
      "Todos los elementos del conjunto producto [('a', 'a'), ('a', 1), ('a', 5), ('a', 7), (1, 'a'), (1, 1), (1, 5), (1, 7), ('c', 'a'), ('c', 1), ('c', 5), ('c', 7)]\n"
     ]
    }
   ],
   "source": [
    "G = cartesian_product([X,Y])\n",
    "print(\"Factores\",G.cartesian_factors())\n",
    "print(\"Cardinalidad del conjunto producto\",G.cardinality())\n",
    "print(\"Elemento aleatorio\",G.random_element())\n",
    "print(\"Todos los elementos del conjunto producto\",list(G))"
   ]
  },
  {
   "cell_type": "markdown",
   "metadata": {},
   "source": [
    "### 1.1.2 Aplicaciones entre conjuntos\n",
    "------------------------------------------------------------------------\n",
    "**Definición 1.4**: Cuando a cada elemento de un conjunto $X$ le asociamos un único elemento de un conjunto $Y$ decimos que tenemos una aplicación de $X$ en $Y$, y si la llamamos $f$, escribimos $f : X\\rightarrow Y$.\n",
    "\n",
    "**Definición 1.5**: Sea la aplicación <br><center>$f : X\\rightarrow Y$</center><br>\n",
    "Decimos que $f$ es:\n",
    "- inyectiva, si $\\forall x,y \\in X, f(x)=f(y)$ implica que $x=y$\n",
    "- suprayectiva (o sobreyectiva), si $\\forall y \\in Y, \\exists x \\in X$ tal que $f(x)=y$\n",
    "- biyectiva, si es inyectiva y sobreyectiva"
   ]
  },
  {
   "cell_type": "markdown",
   "metadata": {},
   "source": [
    "<div class=\"row\" style=\"display: flex\">\n",
    "  <div class=\"column\" style=\" float: right; flex: 33.33%; padding: 50px;\">\n",
    "        <img src=\"https://upload.wikimedia.org/wikipedia/commons/thumb/0/02/Injection.svg/800px-Injection.svg.png\" height=\"200\" width=\"200\"><figcaption>Ejemplo de aplicación inyectiva</figcaption> \n",
    "  </div>\n",
    "  <div class=\"column\" style=\"  float:left; flex: 33.33%; padding: 50px;\" >\n",
    "        <img src=\"https://upload.wikimedia.org/wikipedia/commons/thumb/6/6c/Surjection.svg/800px-Surjection.svg.png\" height=\"200\" width=\"200\"><figcaption>Ejemplo de aplicación NO inyectiva</figcaption> \n",
    "  </div>\n",
    "</div> \n",
    "\n"
   ]
  },
  {
   "cell_type": "markdown",
   "metadata": {},
   "source": [
    "Para ilustrar estos conceptos, vamos a analizar todas las aplicaciones posibles entre dos conjuntos dados, e intentaremos deducir cuáles de ellas cumplen alguna de las propiedades enumeradas anteriormente, y cuáles no."
   ]
  },
  {
   "cell_type": "code",
   "execution_count": 21,
   "metadata": {},
   "outputs": [
    {
     "name": "stdout",
     "output_type": "stream",
     "text": [
      "Maps from {'a', 'b'} to {1, 2, 3}\n"
     ]
    }
   ],
   "source": [
    "# Creamos los conjuntos dominio y codominio\n",
    "X = Set(['a', 'b'])\n",
    "Y = Set([1, 2, 3])\n",
    "# Obtenemos el conjunto de todas las aplicaciones posibles de X a Y\n",
    "M = FiniteSetMaps(X, Y);\n",
    "print(M)"
   ]
  },
  {
   "cell_type": "code",
   "execution_count": 22,
   "metadata": {},
   "outputs": [
    {
     "data": {
      "text/plain": [
       "[map: a -> 1, b -> 1,\n",
       " map: a -> 1, b -> 2,\n",
       " map: a -> 1, b -> 3,\n",
       " map: a -> 2, b -> 1,\n",
       " map: a -> 2, b -> 2,\n",
       " map: a -> 2, b -> 3,\n",
       " map: a -> 3, b -> 1,\n",
       " map: a -> 3, b -> 2,\n",
       " map: a -> 3, b -> 3]"
      ]
     },
     "execution_count": 22,
     "metadata": {},
     "output_type": "execute_result"
    }
   ],
   "source": [
    "# Visualizamos todas las posibles aplicaciones\n",
    "M.list()"
   ]
  },
  {
   "cell_type": "markdown",
   "metadata": {},
   "source": [
    "**Ejercicio 0**: ¿Qué aplicaciones de las anteriores son inyectivas? ¿Y suprayectivas? ¿Hay alguna biyectiva? Tanto en caso afirmativo como negativo, argumenta la respuesta. En caso de que no exista ninguna aplicación biyectiva, ¿sabrías proponer dos conjuntos $X,Y$ para los cuales,al menos pudiesemos encontrar una aplicación biyectiva entre ellos?"
   ]
  },
  {
   "cell_type": "markdown",
   "metadata": {},
   "source": [
    "\n"
   ]
  },
  {
   "cell_type": "markdown",
   "metadata": {},
   "source": [
    "### 1.1.3 Estructuras algebraicas\n",
    "------------------------------------------------------------------------"
   ]
  },
  {
   "cell_type": "markdown",
   "metadata": {},
   "source": [
    "**Definición 1.7**: Una *operación binaria interna* en un conjunto $A$ asocia a cada elemento de $A \\times A$ un elemento de $A$. Es pues, una aplicación de $A \\times A \\rightarrow A$.\n",
    "\n",
    "**Definición 1.8**: Se llama *grupo* a un conjunto $G$ dotado de una operación binaria interna $*:G \\times G \\rightarrow G$, que asocia al par $(a,b)$ el elemento de $G$, $a*b$, verificando:\n",
    "1. Propiedad asociativa: $a*(b*c)=(a*b)*c$, para $a,b,c \\in G$\n",
    "2. Elemento neutro: $\\exists e \\in G$ tal que $e*a=a=a*e$ para $a \\in G$\n",
    "3. Elemento inverso: $\\forall a \\in G, \\exists a' \\in G$ tal que $a'*a=e=a*a'$\n",
    "\n",
    "Si la operación es conmutativa, es decir, $a*b=b*a, \\forall a,b \\in G$, el grupo se llama conmutativo o abeliano.\n",
    "\n",
    "**Definición 1.9**: Se llama *cuerpo* a un conjunto $K$ con dos operaciones binarias internas $(+)$ y $(.)$ tales que:\n",
    "1. $(K,+)$ es grupo conmutativo\n",
    "2. $(K^* = K-0,.)$ es grupo conmutativo\n",
    "3. $a(b+c)=ab+ac $ y $(a+b)c=ac+bc $, $\\forall a,b,c \\in K$ (propiedad distributiva)\n",
    "\n",
    "**Definición 1.10**: Se llama *anillo* a un conjunto $A$ con dos operaciones binarias internas $(+)$ y $(.)$ tales que:\n",
    "1. $(A,+)$ es grupo conmutativo\n",
    "2. $(.)$ es asociativa\n",
    "3. $a(b+c)=ab+ac $ y $(a+b)c=ac+bc $, $\\forall a,b,c \\in K$ (propiedad distributiva)\n",
    "\n",
    "Nota: los cuerpos son anillos"
   ]
  },
  {
   "cell_type": "markdown",
   "metadata": {},
   "source": [
    "**Ejercicio 1**: ¿Qué diferencia esencialmente a un cuerpo de un anillo? Pon ejemplos de cada una de las estructuras algebraicas definidas anteriormente."
   ]
  },
  {
   "cell_type": "markdown",
   "metadata": {},
   "source": []
  },
  {
   "cell_type": "markdown",
   "metadata": {},
   "source": [
    "## 1.2 Cuerpos finitos\n",
    "\n",
    "### 1.2.1 $\\mathbb{Z}_n$\n",
    "------------------------------------------------------------------------\n",
    "Recordemos que:\n",
    "    \n",
    "**Clases de restos módulo n.** Dado un número entero $n$ no nulo, se considera el conjunto <br>\n",
    "    <center>$\\mathbb{Z}_n = \\{0,1,2,...,n-1\\}$\n",
    "        \n",
    "Las operaciones ordinarias de sumar y multiplicar en $\\mathbb{Z}$ se trasladan a $\\mathbb{Z}_n$ de la siguiente forma:\n",
    "        $$a+b = (a+b)\\,  \\mod \\, n$$\n",
    "        $$a*b = (a*b)\\,  \\mod \\, n$$\n",
    "            \n",
    "**Proposición 2.2** De acuerdo con las operaciones anteriores, si $n$ es primo, ($\\mathbb{Z}_n,+,.$) es un cuerpo.\n",
    "        "
   ]
  },
  {
   "cell_type": "markdown",
   "metadata": {},
   "source": [
    "#### Ejercicios"
   ]
  },
  {
   "cell_type": "markdown",
   "metadata": {},
   "source": [
    "**Problema 0.** Da la tabla de sumar y multiplicar del cuerpo de 2 elementos $\\mathbb{Z}_2$."
   ]
  },
  {
   "cell_type": "code",
   "execution_count": 37,
   "metadata": {},
   "outputs": [
    {
     "data": {
      "text/plain": [
       "+  a b\n",
       " +----\n",
       "a| a b\n",
       "b| b a\n"
      ]
     },
     "execution_count": 37,
     "metadata": {},
     "output_type": "execute_result"
    }
   ],
   "source": [
    "Z = FiniteField(2)\n",
    "Z.addition_table()\n"
   ]
  },
  {
   "cell_type": "code",
   "execution_count": 36,
   "metadata": {},
   "outputs": [
    {
     "data": {
      "text/plain": [
       "*  a b\n",
       " +----\n",
       "a| a a\n",
       "b| a b\n"
      ]
     },
     "execution_count": 36,
     "metadata": {},
     "output_type": "execute_result"
    }
   ],
   "source": [
    "Z.multiplication_table()"
   ]
  },
  {
   "cell_type": "markdown",
   "metadata": {},
   "source": [
    "**Problema 1.** Da la tabla de sumar y multiplicar del cuerpo de cinco elementos $\\mathbb{Z}_5$. Encuentra el inverso multiplicativo de los elementos no nulos."
   ]
  },
  {
   "cell_type": "code",
   "execution_count": 18,
   "metadata": {},
   "outputs": [
    {
     "data": {
      "text/plain": [
       "+  a b c d e\n",
       " +----------\n",
       "a| a b c d e\n",
       "b| b c d e a\n",
       "c| c d e a b\n",
       "d| d e a b c\n",
       "e| e a b c d\n"
      ]
     },
     "execution_count": 18,
     "metadata": {},
     "output_type": "execute_result"
    }
   ],
   "source": [
    "Z_5 = GF(5);\n",
    "Z_5.addition_table()"
   ]
  },
  {
   "cell_type": "markdown",
   "metadata": {},
   "source": [
    "**Problema 2.** Encuentra el inverso multiplicativo de los elementos no nulos de $\\mathbb{Z}_{7}$."
   ]
  },
  {
   "cell_type": "markdown",
   "metadata": {},
   "source": [
    "\n"
   ]
  },
  {
   "cell_type": "markdown",
   "metadata": {},
   "source": [
    "**Problema 3.** Realiza las siguientes operaciones en el cuerpo $\\mathbb{Z}_{5003}$ (¿por qué es un cuerpo?):\n",
    "\n",
    "- $1992+4017$\n",
    "- $1992-4017$\n",
    "- $1992\\times 4017$ (si no tienes ganas de multiplicar a mano usa <kbd>Sagemath</kbd>)\n",
    "- ${1992}:{4017}$ (busca la ayuda de `xgcd` y compara con los apuntes)"
   ]
  },
  {
   "cell_type": "code",
   "execution_count": 4,
   "metadata": {},
   "outputs": [],
   "source": [
    "reset()\n",
    "Z = GF(5003) #GF quiere decir Galois Field y es una forma de crear cuerpos finitos muy buena. (Campo de Galois)\n",
    "a = Z(1992) #podemos crear variables con elementos del campo de galois anterior, de forma que las operaciones suma y producto ya las hace con el mod(p) de facto\n",
    "b = Z(4017)\n"
   ]
  },
  {
   "cell_type": "code",
   "execution_count": 9,
   "metadata": {},
   "outputs": [
    {
     "name": "stdout",
     "output_type": "stream",
     "text": [
      "1992  +  4017  =  1006\n",
      "1992  -  4017  =  2978\n",
      "1992  *  4017  =  2067\n",
      "1992  /  4017  =  2261\n"
     ]
    }
   ],
   "source": [
    "print(a, \" + \", b, \" = \", a+b)\n",
    "print(a, \" - \", b, \" = \", a-b)\n",
    "print(a, \" * \", b, \" = \", a*b)\n",
    "print(a, \" / \", b, \" = \", a/b)"
   ]
  },
  {
   "cell_type": "code",
   "execution_count": 10,
   "metadata": {},
   "outputs": [
    {
     "data": {
      "text/plain": [
       "(1, -137, 110)"
      ]
     },
     "execution_count": 10,
     "metadata": {},
     "output_type": "execute_result"
    }
   ],
   "source": [
    "#La división también la podemos hacer de otra forma. Dado que la operación 'división' no está definida como tal en estos cuerpos, hemos de buscar un equivalente\n",
    "#con una operación que SÍ sepamos hacer. En nuestro caso va a ser la multiplicación, ya que a / b = a * 1/b. \n",
    "#En otras palabras, a entre b es lo mismo que a por el inverso de b. Así pues, hemos de encontrar el inverso de b usando la Identidad de Bezout (mirar los apuntes\n",
    "# para explicación detallada)\n",
    "\n",
    "#En sage usaremos la función xgcd(a, b) que devuelte una terna (g, t, s) tal que g = t*a + s*b\n",
    "#En nuestro caso g será 1 (ya que si no no tiene inverso ergo no es cuerpo!), a será el número del cual buscamos el inverso y b será el primo sobre el cual se construye\n",
    "#el cuerpo. Luego será el parámetro t el que sea el inverso que tanto buscamos.\n",
    "\n",
    "xgcd(4017, 5003)"
   ]
  },
  {
   "cell_type": "code",
   "execution_count": 13,
   "metadata": {},
   "outputs": [
    {
     "data": {
      "text/html": [
       "<html><script type=\"math/tex; mode=display\">\\newcommand{\\Bold}[1]{\\mathbf{#1}}1</script></html>"
      ],
      "text/latex": [
       "$$\\newcommand{\\Bold}[1]{\\mathbf{#1}}1$$"
      ],
      "text/plain": [
       "1"
      ]
     },
     "metadata": {},
     "output_type": "display_data"
    }
   ],
   "source": [
    "# t = -137. Es decir, -137 es el inverso de 4017. Y qué es -137? Pues el inverso aditivo de 137, i.e. 5003 - 137 = 4886\n",
    "# 4886 es nuestro inverso que verifica que 4886 * 4017 = 1 (en el cuerpo)\n",
    "c = Z(4866)\n",
    "show(b * c)"
   ]
  },
  {
   "cell_type": "code",
   "execution_count": 15,
   "metadata": {},
   "outputs": [
    {
     "name": "stdout",
     "output_type": "stream",
     "text": [
      "1992  /  4017  =  2261\n"
     ]
    }
   ],
   "source": [
    "#Sabiendo todo esto ya podemos escribir nuestra división como 1992 * inv(4017) = 1992 * 4866\n",
    "print(a, \" / \", b, \" = \", a*c)"
   ]
  },
  {
   "cell_type": "markdown",
   "metadata": {},
   "source": [
    "**Problema 4.** Calcula los inversos de $x$ en $\\mathbb{Z}_{32003}$ para los siguientes valores de $x$: $14912, 8422, 30914, 4272, 7685, 13799, 15387, 29346, 23674, 26833, 544051$."
   ]
  },
  {
   "cell_type": "code",
   "execution_count": 18,
   "metadata": {},
   "outputs": [
    {
     "name": "stdout",
     "output_type": "stream",
     "text": [
      "9385\n",
      "10674\n",
      "2351\n",
      "-4757\n",
      "15254\n",
      "1918\n",
      "15676\n",
      "-15598\n",
      "-8799\n",
      "7781\n",
      "0\n"
     ]
    }
   ],
   "source": [
    "print(xgcd(14912, 32003)[1])\n",
    "print(xgcd(8422, 32003)[1])\n",
    "print(xgcd(30914, 32003)[1])\n",
    "print(xgcd(4272, 32003)[1])\n",
    "print(xgcd(7685, 32003)[1])\n",
    "print(xgcd(13799, 32003)[1])\n",
    "print(xgcd(15387, 32003)[1])\n",
    "print(xgcd(29346, 32003)[1])\n",
    "print(xgcd(23674, 32003)[1])\n",
    "print(xgcd(26833, 32003)[1])\n",
    "print(xgcd(544051, 32003)[1])"
   ]
  },
  {
   "cell_type": "markdown",
   "metadata": {},
   "source": [
    "### 1.2.2 Polinomios\n",
    "------------------------------------------------------------------------"
   ]
  },
  {
   "cell_type": "markdown",
   "metadata": {},
   "source": [
    "El conjunto de los polinomios (en la variable $x$) con coeficientes en un cuerpo $K$ tiene dos operaciones, suma y multiplicación, respecto de las cuales adquiere la estructura de anillo conmutativo. Este anillo se denota por $K[x]$.\n",
    "\n",
    "Recordemos la siguiente propiedad de los números enteros:\n",
    "\n",
    "**Proposición 2.1** Dados $D,d \\in \\mathbb{Z}$ (dividendo, divisor), $\\exists! q,r \\in \\mathbb{Z}$ (cociente, resto) con $|r|<|d|$, tales que\n",
    "$$D = dq+r$$\n",
    "    \n",
    "Al igual que se puede dividir con los números enteros, también es posible hacerlo con polinomios. Suponiendo que $K$ es un cuerpo:\n",
    "    \n",
    "**Proposición 2.3** Dados los polinomios $D,d \\in K[x]$ (dividendo, divisor), $\\exists! q,r \\in K[x]$ (cociente, resto) con $\\text{grad}(r)<\\text{grad}(d)$, tales que\n",
    "$$D = dq+r$$"
   ]
  },
  {
   "cell_type": "markdown",
   "metadata": {},
   "source": [
    "#### Ejercicios"
   ]
  },
  {
   "cell_type": "markdown",
   "metadata": {},
   "source": [
    "**Problema 5.** Sean $f:=x^2+1$, $g:=x^{2} + 3 x + 1$.\n",
    "\n",
    "- Calcula $f+g$ y $f\\cdot g$ suponiendo que $f,g\\in\\mathbb{Q}[x]$.\n",
    "- Calcula $f+g$ y $f\\cdot g$ suponiendo que $f,g\\in\\mathbb{Z}_2[x]$.\n",
    "- Calcula $f^4$ suponiendo que $f\\in\\mathbb{Q}[x]$.\n",
    "- Calcula $f^4$ suponiendo que $f\\in\\mathbb{Z}_2[x]$."
   ]
  },
  {
   "cell_type": "code",
   "execution_count": 19,
   "metadata": {},
   "outputs": [],
   "source": [
    "#R = PolynomialRing(QQ, 'x')\n",
    "#Definimos el anillo de polinomios R en Q (racionales)\n",
    "R.<x> = PolynomialRing(QQ)"
   ]
  },
  {
   "cell_type": "code",
   "execution_count": 22,
   "metadata": {},
   "outputs": [],
   "source": [
    "f = x^2 + 1\n",
    "g = x^2 + 3*x +1"
   ]
  },
  {
   "cell_type": "code",
   "execution_count": 24,
   "metadata": {},
   "outputs": [
    {
     "data": {
      "text/html": [
       "<html><script type=\"math/tex; mode=display\">\\newcommand{\\Bold}[1]{\\mathbf{#1}}2 x^{2} + 3 x + 2</script></html>"
      ],
      "text/latex": [
       "$$\\newcommand{\\Bold}[1]{\\mathbf{#1}}2 x^{2} + 3 x + 2$$"
      ],
      "text/plain": [
       "2*x^2 + 3*x + 2"
      ]
     },
     "metadata": {},
     "output_type": "display_data"
    },
    {
     "data": {
      "text/html": [
       "<html><script type=\"math/tex; mode=display\">\\newcommand{\\Bold}[1]{\\mathbf{#1}}x^{4} + 3 x^{3} + 2 x^{2} + 3 x + 1</script></html>"
      ],
      "text/latex": [
       "$$\\newcommand{\\Bold}[1]{\\mathbf{#1}}x^{4} + 3 x^{3} + 2 x^{2} + 3 x + 1$$"
      ],
      "text/plain": [
       "x^4 + 3*x^3 + 2*x^2 + 3*x + 1"
      ]
     },
     "metadata": {},
     "output_type": "display_data"
    }
   ],
   "source": [
    "show(f + g)\n",
    "show((f * g))"
   ]
  },
  {
   "cell_type": "code",
   "execution_count": 26,
   "metadata": {},
   "outputs": [
    {
     "data": {
      "text/html": [
       "<html><script type=\"math/tex; mode=display\">\\newcommand{\\Bold}[1]{\\mathbf{#1}}x</script></html>"
      ],
      "text/latex": [
       "$$\\newcommand{\\Bold}[1]{\\mathbf{#1}}x$$"
      ],
      "text/plain": [
       "x"
      ]
     },
     "metadata": {},
     "output_type": "display_data"
    },
    {
     "data": {
      "text/html": [
       "<html><script type=\"math/tex; mode=display\">\\newcommand{\\Bold}[1]{\\mathbf{#1}}x^{4} + x^{3} + x + 1</script></html>"
      ],
      "text/latex": [
       "$$\\newcommand{\\Bold}[1]{\\mathbf{#1}}x^{4} + x^{3} + x + 1$$"
      ],
      "text/plain": [
       "x^4 + x^3 + x + 1"
      ]
     },
     "metadata": {},
     "output_type": "display_data"
    }
   ],
   "source": [
    "reset()\n",
    "Z_2 = FiniteField(2)\n",
    "R_2.<x> = PolynomialRing(Z_2)\n",
    "f = x^2 + 1\n",
    "g = x^2 + 3*x + 1\n",
    "show(f+g)\n",
    "show(f*g)"
   ]
  },
  {
   "cell_type": "code",
   "execution_count": 28,
   "metadata": {},
   "outputs": [
    {
     "data": {
      "text/html": [
       "<html><script type=\"math/tex; mode=display\">\\newcommand{\\Bold}[1]{\\mathbf{#1}}x^{8} + 4 x^{6} + 6 x^{4} + 4 x^{2} + 1</script></html>"
      ],
      "text/latex": [
       "$$\\newcommand{\\Bold}[1]{\\mathbf{#1}}x^{8} + 4 x^{6} + 6 x^{4} + 4 x^{2} + 1$$"
      ],
      "text/plain": [
       "x^8 + 4*x^6 + 6*x^4 + 4*x^2 + 1"
      ]
     },
     "metadata": {},
     "output_type": "display_data"
    }
   ],
   "source": [
    "R.<x> = PolynomialRing(QQ)\n",
    "f = x^2 + 1\n",
    "show(f^4)"
   ]
  },
  {
   "cell_type": "code",
   "execution_count": 29,
   "metadata": {},
   "outputs": [
    {
     "data": {
      "text/html": [
       "<html><script type=\"math/tex; mode=display\">\\newcommand{\\Bold}[1]{\\mathbf{#1}}x^{8} + 1</script></html>"
      ],
      "text/latex": [
       "$$\\newcommand{\\Bold}[1]{\\mathbf{#1}}x^{8} + 1$$"
      ],
      "text/plain": [
       "x^8 + 1"
      ]
     },
     "metadata": {},
     "output_type": "display_data"
    }
   ],
   "source": [
    "R.<x> = PolynomialRing(FiniteField(2))\n",
    "f = x^2 + 1\n",
    "show(f^4)"
   ]
  },
  {
   "cell_type": "markdown",
   "metadata": {},
   "source": [
    "**Problema 6.** Sean $f=x^{6} + x^{3} + x^{2} + x + 1$ y $g=x^{4} + x + 1$ polinomios de $\\mathbb{Z}_2[x]$.\n",
    "1. Calcula el cociente y el resto de la división de $f$ por $g$.\n",
    "2. Calcula el máximo común divisor de $f$ y $g$.\n",
    "3. Si $d$ es el máximo común divisor, encuentra dos polinomios $p,q$ tales que $p f+ q g=d$ (identidad de Bezout)"
   ]
  },
  {
   "cell_type": "code",
   "execution_count": null,
   "metadata": {},
   "outputs": [],
   "source": []
  },
  {
   "cell_type": "code",
   "execution_count": null,
   "metadata": {},
   "outputs": [],
   "source": []
  },
  {
   "cell_type": "code",
   "execution_count": null,
   "metadata": {},
   "outputs": [],
   "source": []
  },
  {
   "cell_type": "code",
   "execution_count": null,
   "metadata": {},
   "outputs": [],
   "source": []
  },
  {
   "cell_type": "markdown",
   "metadata": {},
   "source": [
    "**Problema 7.** Resuelve con <kbd>Sagemath</kbd> el problema 19 de los apuntes, teniendo en cuenta que los polinomios están en $\\mathbb{Z}_2[x]$."
   ]
  },
  {
   "cell_type": "code",
   "execution_count": null,
   "metadata": {},
   "outputs": [],
   "source": []
  },
  {
   "cell_type": "code",
   "execution_count": null,
   "metadata": {},
   "outputs": [],
   "source": []
  },
  {
   "cell_type": "markdown",
   "metadata": {},
   "source": [
    "**Problema 8.** Considera el conjunto de polinomios de grado menor que 2 en $\\mathbb{Z}_2[x]$. Calcula:\n",
    "- La tabla de multiplicar de dicho conjunto\n",
    "- La tabla de los restos módulo $x^2+x+1$\n",
    "- La tabla de los restos módulo $x^2$\n",
    "- La tabla de los restos módulo $x^2+x$\n",
    "\n",
    "¿Alguna de las tres puede corresponder con la tabla de multiplicar de un cuerpo?"
   ]
  },
  {
   "cell_type": "markdown",
   "metadata": {},
   "source": [
    "### 1.1.3 Cuerpos finitos mediante polinomios irreducibles en <kbd>SAGEMATH</kbd>\n",
    "\n",
    "------------------------------------------------------------------------\n",
    "\n",
    "Introducimos aquí como trabajar con cuerpos de tamaño $2^n$, $n>1$. Recordemos que en clase habéis visto que se pueden identificar con los polinomios de $\\mathbb{Z}_2[x]$ de grado $<n$ una vez fijado un polinomio irreducible $P$ de grado $n$ en $\\mathbb{Z}_2[x]$. La suma del cuerpo es la suma de polinomios mientras que el producto se obtiene como el resto del producto de los polinomios al dividirlo por $P$.\n",
    "\n",
    "Sage soporta cálculos en los cuerpos finitos sin necesidad de definirlos e implementarlos a mano. Para ello, hay que elegir un nombre para el generador del cuerpo (que juega el papel de lo que antes hemos llamado $x$)."
   ]
  },
  {
   "cell_type": "code",
   "execution_count": null,
   "metadata": {},
   "outputs": [],
   "source": [
    "K.<u>=FiniteField(16)\n",
    "K"
   ]
  },
  {
   "cell_type": "markdown",
   "metadata": {},
   "source": [
    "Veamos los elementos de $K$."
   ]
  },
  {
   "cell_type": "code",
   "execution_count": null,
   "metadata": {},
   "outputs": [],
   "source": [
    "print(K.list())"
   ]
  },
  {
   "cell_type": "markdown",
   "metadata": {},
   "source": [
    "Vamos a mostrar los elementos de este cuerpo en formato hexadecimal (una sola cifra basta en este caso).\n",
    "Para ello a cada elemento de $K$ le hacemos lo siguiente:\n",
    "- Lo escribimos como polinomio en $u$.\n",
    "- Ese polinomio lo vemos como polinomio con coeficientes en $\\mathbb{Z}$ y lo evalúamos en $2$.\n",
    "- Usamos una función de <kbd>python</kbd> que convierte este entero en un carácter hexadecimal en $\\{0,1,\\dots,9,a,\\dots,f\\}$. "
   ]
  },
  {
   "cell_type": "code",
   "execution_count": null,
   "metadata": {},
   "outputs": [],
   "source": [
    "Kelementos=K.list()\n",
    "U=[hex(el.polynomial().change_ring(ZZ)(2)) for el in Kelementos]\n",
    "for j in range(16):\n",
    "    print(\"El elemento \",Kelementos[j],\" es el hexadecimal\",U[j])"
   ]
  },
  {
   "cell_type": "markdown",
   "metadata": {},
   "source": [
    "Ahora vemos cómo es la tabla de multiplicar. Os invitamos a usar la ayuda."
   ]
  },
  {
   "cell_type": "code",
   "execution_count": null,
   "metadata": {},
   "outputs": [],
   "source": [
    "K.multiplication_table(names=U,elements=Kelementos)"
   ]
  },
  {
   "cell_type": "markdown",
   "metadata": {},
   "source": [
    "El polinomio $P$ se puede recuperar. Observemos que si *evalúamos* $p$ en $u$ el resultado es cero (es el polinomio mónico no nulo de grado más pequeño que se anula al evaluarlo en $u$)"
   ]
  },
  {
   "cell_type": "code",
   "execution_count": null,
   "metadata": {},
   "outputs": [],
   "source": [
    "P=u.minpoly()\n",
    "P"
   ]
  },
  {
   "cell_type": "code",
   "execution_count": null,
   "metadata": {},
   "outputs": [],
   "source": [
    "P(x=u)"
   ]
  },
  {
   "cell_type": "markdown",
   "metadata": {},
   "source": [
    "¿Y qué pasa si queremos ver el mismo cuerpo con otro polinomio irreducible?"
   ]
  },
  {
   "cell_type": "code",
   "execution_count": null,
   "metadata": {},
   "outputs": [],
   "source": [
    "Q=x^4+x\n",
    "K1.<v>=FiniteField(16,modulus=Q)"
   ]
  },
  {
   "cell_type": "markdown",
   "metadata": {},
   "source": [
    "Como el polinomio no es irreducible, nos da error. Corrijamos."
   ]
  },
  {
   "cell_type": "code",
   "execution_count": null,
   "metadata": {},
   "outputs": [],
   "source": [
    "Q=x^4+x^3+1\n",
    "K1.<v>=FiniteField(16,modulus=Q)"
   ]
  },
  {
   "cell_type": "code",
   "execution_count": null,
   "metadata": {},
   "outputs": [],
   "source": [
    "v.minpoly()"
   ]
  },
  {
   "cell_type": "markdown",
   "metadata": {},
   "source": [
    "Todos los elementos tienen un *polinomio mínimo*"
   ]
  },
  {
   "cell_type": "code",
   "execution_count": null,
   "metadata": {},
   "outputs": [],
   "source": [
    "for w in K:\n",
    "    print(\"El polinomio mínimo de \",w,\" es \",w.minpoly())"
   ]
  },
  {
   "cell_type": "markdown",
   "metadata": {},
   "source": [
    "**Problema 9.** Verifica con Sagemath los problemas 20 a 27 de los apuntes."
   ]
  },
  {
   "cell_type": "code",
   "execution_count": null,
   "metadata": {},
   "outputs": [],
   "source": [
    "# Problema 20\n"
   ]
  },
  {
   "cell_type": "code",
   "execution_count": null,
   "metadata": {},
   "outputs": [],
   "source": [
    "# Problema 21\n"
   ]
  },
  {
   "cell_type": "code",
   "execution_count": null,
   "metadata": {},
   "outputs": [],
   "source": [
    "# Problema 22\n"
   ]
  },
  {
   "cell_type": "code",
   "execution_count": null,
   "metadata": {},
   "outputs": [],
   "source": [
    "# Problema 23"
   ]
  },
  {
   "cell_type": "code",
   "execution_count": null,
   "metadata": {},
   "outputs": [],
   "source": [
    "# Problema 24\n"
   ]
  },
  {
   "cell_type": "code",
   "execution_count": null,
   "metadata": {},
   "outputs": [],
   "source": [
    "# Problema 25\n",
    "\n"
   ]
  },
  {
   "cell_type": "code",
   "execution_count": null,
   "metadata": {},
   "outputs": [],
   "source": [
    "# Problema 26\n",
    "\n"
   ]
  },
  {
   "cell_type": "code",
   "execution_count": null,
   "metadata": {},
   "outputs": [],
   "source": [
    "# Problema 27"
   ]
  }
 ],
 "metadata": {
  "kernelspec": {
   "display_name": "SageMath 9.3",
   "language": "sage",
   "name": "sagemath"
  },
  "language_info": {
   "codemirror_mode": {
    "name": "ipython",
    "version": 3
   },
   "file_extension": ".py",
   "mimetype": "text/x-python",
   "name": "python",
   "nbconvert_exporter": "python",
   "pygments_lexer": "ipython3",
   "version": "3.9.2"
  }
 },
 "nbformat": 4,
 "nbformat_minor": 4
}
