{
 "cells": [
  {
   "cell_type": "markdown",
   "metadata": {},
   "source": [
    "$$\n",
    "\\def\\CC{\\bf C}\n",
    "\\def\\QQ{\\bf Q}\n",
    "\\def\\RR{\\bf R}\n",
    "\\def\\ZZ{\\bf Z}\n",
    "\\def\\NN{\\bf N}\n",
    "$$\n",
    "# Hoja 0\n",
    "\n",
    "Cada hoja de trabajo de **SAGEMATH/JUPYTER** estÃ¡ distribuida en celdas donde introduciremos Ã³rdenes que darÃ¡n un resultado (o guardarÃ¡n informaciÃ³n). Es conveniente que leÃ¡is la ayuda sobre las *worksheets* pero aquÃ­ van algunas indicaciones:\n",
    "\n",
    "-   PodÃ©is introducir varias lÃ­neas en cada celda. Solo darÃ¡ informaciÃ³n de la Ãºltima (no es del todo cierto pero ya lo veremos mÃ¡s adelante)\n",
    "-   Para evaluar una celda, tenÃ©is que pulsar **shift** + **retorno** o usar el icono `play` de la parte superior.\n",
    "-   PodÃ©is introducir nÃºmeros (el punto separa los decimales), operaciones (`+,-,*,/,%`)\n",
    "-   La coma separa distintas entradas\n",
    "\n",
    "**Problema 1.** En este primer problema vamos a trabajar con listas. Una lista es una familia ordenada de elementos de **SAGE**; se representan entre corchetes separando los objetos por comas, y se le pueden aplicar operaciones naturales que unas veces tendrÃ¡n sentido y otras no."
   ]
  },
  {
   "cell_type": "code",
   "execution_count": 1,
   "metadata": {},
   "outputs": [
    {
     "data": {
      "text/plain": [
       "['Esto es', 'una lista con', 'distintos tipos,', 3, 13, x^2 + 1, log(pi), -e]"
      ]
     },
     "execution_count": 1,
     "metadata": {},
     "output_type": "execute_result"
    }
   ],
   "source": [
    "['Esto es','una lista con','distintos tipos,',3,3+2*5,x^2+1,log(pi),-e]"
   ]
  },
  {
   "cell_type": "markdown",
   "metadata": {},
   "source": [
    "Si vamos a usarla mÃ¡s veces es mejor guardar la lista en variables lo que se consigue con el sÃ­mbolo **=**."
   ]
  },
  {
   "cell_type": "code",
   "execution_count": 2,
   "metadata": {},
   "outputs": [],
   "source": [
    "a=['Esto es','una lista con','distintos tipos,',3,3+2*5,x^2+1,log(pi),-e]"
   ]
  },
  {
   "cell_type": "code",
   "execution_count": 3,
   "metadata": {},
   "outputs": [
    {
     "data": {
      "text/plain": [
       "['Esto es', 'una lista con', 'distintos tipos,', 3, 13, x^2 + 1, log(pi), -e]"
      ]
     },
     "execution_count": 3,
     "metadata": {},
     "output_type": "execute_result"
    }
   ],
   "source": [
    "a"
   ]
  },
  {
   "cell_type": "markdown",
   "metadata": {},
   "source": [
    "A los elementos de una lista se accede mediante su posiciÃ³n; por ejemplo el quinto elemento de la lista `a` es `a[4]`. Â¿Por quÃ©? Porque se empieza contando desde $0$. La longitud de una lista se obtiene con la funciÃ³n `len`."
   ]
  },
  {
   "cell_type": "code",
   "execution_count": 4,
   "metadata": {},
   "outputs": [
    {
     "data": {
      "text/plain": [
       "'distintos tipos,'"
      ]
     },
     "execution_count": 4,
     "metadata": {},
     "output_type": "execute_result"
    }
   ],
   "source": [
    "a[2]"
   ]
  },
  {
   "cell_type": "code",
   "execution_count": 5,
   "metadata": {},
   "outputs": [
    {
     "data": {
      "text/plain": [
       "8"
      ]
     },
     "execution_count": 5,
     "metadata": {},
     "output_type": "execute_result"
    }
   ],
   "source": [
    "len(a)"
   ]
  },
  {
   "cell_type": "markdown",
   "metadata": {},
   "source": [
    "**Apartado 1a.** Construye una lista `A` con los 5 primeros nÃºmeros naturales pares y otra `B` con los 20 primeros impares."
   ]
  },
  {
   "cell_type": "code",
   "execution_count": 7,
   "metadata": {},
   "outputs": [
    {
     "data": {
      "text/plain": [
       "[2, 4, 6, 8, 10]"
      ]
     },
     "execution_count": 7,
     "metadata": {},
     "output_type": "execute_result"
    }
   ],
   "source": [
    "A=[2,4,6,8,10]\n",
    "A"
   ]
  },
  {
   "cell_type": "code",
   "execution_count": 14,
   "metadata": {},
   "outputs": [
    {
     "data": {
      "text/plain": [
       "[1, 3, 5, 7, 9, 11, 13, 15, 17, 19, 21, 23, 25, 27, 29, 31, 33, 35, 37, 39]"
      ]
     },
     "execution_count": 14,
     "metadata": {},
     "output_type": "execute_result"
    }
   ],
   "source": [
    "B=[1,3,..,39]\n",
    "B"
   ]
  },
  {
   "cell_type": "code",
   "execution_count": 15,
   "metadata": {},
   "outputs": [
    {
     "data": {
      "text/plain": [
       "20"
      ]
     },
     "execution_count": 15,
     "metadata": {},
     "output_type": "execute_result"
    }
   ],
   "source": [
    "len(B)"
   ]
  },
  {
   "cell_type": "markdown",
   "metadata": {},
   "source": [
    "Si la lista es grande, no es razonable escribir todos los datos. Para ello tenemos varias maneras de acortar la orden. Aprovechamos para introducir las expresiones lÃ³gicas: en la celda de abajo, `==` sirve para comparar los dos tÃ©rminos y devuelve `True` o `False` segÃºn sean iguales o no.\n",
    "\n",
    "Esta primera orden usa puntos suspensivos (el paso se obtiene de los dos primeros nÃºmeros)."
   ]
  },
  {
   "cell_type": "code",
   "execution_count": 8,
   "metadata": {},
   "outputs": [
    {
     "data": {
      "text/plain": [
       "True"
      ]
     },
     "execution_count": 8,
     "metadata": {},
     "output_type": "execute_result"
    }
   ],
   "source": [
    "A==[2,4,..,10]"
   ]
  },
  {
   "cell_type": "code",
   "execution_count": 9,
   "metadata": {},
   "outputs": [
    {
     "data": {
      "text/plain": [
       "[2, 3, 4, 5, 6, 7, 8, 9, 10]"
      ]
     },
     "execution_count": 9,
     "metadata": {},
     "output_type": "execute_result"
    }
   ],
   "source": [
    "[2..10]"
   ]
  },
  {
   "cell_type": "code",
   "execution_count": 21,
   "metadata": {},
   "outputs": [
    {
     "data": {
      "text/plain": [
       "False"
      ]
     },
     "execution_count": 21,
     "metadata": {},
     "output_type": "execute_result"
    }
   ],
   "source": [
    "A==[2..10]"
   ]
  },
  {
   "cell_type": "markdown",
   "metadata": {},
   "source": [
    "Algunas listas de nÃºmeros enteros tambiÃ©n se pueden definir mediante la funciÃ³n `range`."
   ]
  },
  {
   "cell_type": "code",
   "execution_count": 16,
   "metadata": {},
   "outputs": [
    {
     "data": {
      "text/plain": [
       "[0, 1, 2, 3]"
      ]
     },
     "execution_count": 16,
     "metadata": {},
     "output_type": "execute_result"
    }
   ],
   "source": [
    "list(range(4))"
   ]
  },
  {
   "cell_type": "code",
   "execution_count": 17,
   "metadata": {},
   "outputs": [
    {
     "data": {
      "text/plain": [
       "(4, 5, 6, 7)"
      ]
     },
     "execution_count": 17,
     "metadata": {},
     "output_type": "execute_result"
    }
   ],
   "source": [
    "tuple(range(4,8))"
   ]
  },
  {
   "cell_type": "code",
   "execution_count": 19,
   "metadata": {},
   "outputs": [
    {
     "data": {
      "text/plain": [
       "[4, 6, 8, 10, 12, 14]"
      ]
     },
     "execution_count": 19,
     "metadata": {},
     "output_type": "execute_result"
    }
   ],
   "source": [
    "list(range(4,15,2))"
   ]
  },
  {
   "cell_type": "code",
   "execution_count": 20,
   "metadata": {},
   "outputs": [
    {
     "data": {
      "text/plain": [
       "False"
      ]
     },
     "execution_count": 20,
     "metadata": {},
     "output_type": "execute_result"
    }
   ],
   "source": [
    "A==range(2,11,2)"
   ]
  },
  {
   "cell_type": "markdown",
   "metadata": {},
   "source": [
    "La funciÃ³n `range` de `python3` tiene una estructura interna diferente a las listas y esa es la razÃ³n de la evaluaciÃ³n de la celda anterior."
   ]
  },
  {
   "cell_type": "code",
   "execution_count": 22,
   "metadata": {},
   "outputs": [
    {
     "data": {
      "text/plain": [
       "True"
      ]
     },
     "execution_count": 22,
     "metadata": {},
     "output_type": "execute_result"
    }
   ],
   "source": [
    "A==list(range(2,11,2))"
   ]
  },
  {
   "cell_type": "markdown",
   "metadata": {},
   "source": [
    "TambiÃ©n se pueden usar bucles y condicionales para poder definir listas"
   ]
  },
  {
   "cell_type": "code",
   "execution_count": 23,
   "metadata": {},
   "outputs": [
    {
     "data": {
      "text/plain": [
       "True"
      ]
     },
     "execution_count": 23,
     "metadata": {},
     "output_type": "execute_result"
    }
   ],
   "source": [
    "A==[2*(j+1) for j in range(5)]"
   ]
  },
  {
   "cell_type": "code",
   "execution_count": 27,
   "metadata": {},
   "outputs": [
    {
     "data": {
      "text/plain": [
       "True"
      ]
     },
     "execution_count": 27,
     "metadata": {},
     "output_type": "execute_result"
    }
   ],
   "source": [
    "A==[j for j in range(11) if j>1 and j%2==0]"
   ]
  },
  {
   "cell_type": "markdown",
   "metadata": {},
   "source": [
    "La expresiÃ³n `a%b` produce el resto de `a` al dividirlo por `b`. En las siguientes celdas completa la pregunta de tres maneras diferentes.\n",
    "\n",
    "**Apartado b.** Define dos listas y sÃºmalas. Observa lo que pasa si las multiplicas por un nÃºmero entero y si utilizas las Ã³rdenes `sum` o `prod`."
   ]
  },
  {
   "cell_type": "code",
   "execution_count": 28,
   "metadata": {},
   "outputs": [
    {
     "data": {
      "text/plain": [
       "['Esto es',\n",
       " 'una lista con',\n",
       " 'distintos tipos,',\n",
       " 3,\n",
       " 13,\n",
       " x^2 + 1,\n",
       " log(pi),\n",
       " -e,\n",
       " 2,\n",
       " 4,\n",
       " 6,\n",
       " 8,\n",
       " 10]"
      ]
     },
     "execution_count": 28,
     "metadata": {},
     "output_type": "execute_result"
    }
   ],
   "source": [
    "a+A"
   ]
  },
  {
   "cell_type": "code",
   "execution_count": 29,
   "metadata": {},
   "outputs": [
    {
     "data": {
      "text/plain": [
       "True"
      ]
     },
     "execution_count": 29,
     "metadata": {},
     "output_type": "execute_result"
    }
   ],
   "source": [
    "a+a==2*a"
   ]
  },
  {
   "cell_type": "code",
   "execution_count": 30,
   "metadata": {},
   "outputs": [
    {
     "data": {
      "text/plain": [
       "[]"
      ]
     },
     "execution_count": 30,
     "metadata": {},
     "output_type": "execute_result"
    }
   ],
   "source": [
    "-5*a"
   ]
  },
  {
   "cell_type": "markdown",
   "metadata": {},
   "source": [
    "Al sumar o multiplicar la lista `a` se obtiene un error por que no tiene sentido la suma de elementos. Observa quÃ© ocurre si lo haces con `A` o `B`."
   ]
  },
  {
   "cell_type": "code",
   "execution_count": 31,
   "metadata": {},
   "outputs": [
    {
     "data": {
      "text/plain": [
       "30"
      ]
     },
     "execution_count": 31,
     "metadata": {},
     "output_type": "execute_result"
    }
   ],
   "source": [
    "sum(A)"
   ]
  },
  {
   "cell_type": "code",
   "execution_count": 32,
   "metadata": {},
   "outputs": [
    {
     "ename": "TypeError",
     "evalue": "can't multiply sequence by non-int of type 'str'",
     "output_type": "error",
     "traceback": [
      "\u001b[0;31m---------------------------------------------------------------------------\u001b[0m",
      "\u001b[0;31mTypeError\u001b[0m                                 Traceback (most recent call last)",
      "\u001b[0;32m<ipython-input-32-e83c1750149a>\u001b[0m in \u001b[0;36m<module>\u001b[0;34m\u001b[0m\n\u001b[0;32m----> 1\u001b[0;31m \u001b[0mprod\u001b[0m\u001b[0;34m(\u001b[0m\u001b[0ma\u001b[0m\u001b[0;34m)\u001b[0m\u001b[0;34m\u001b[0m\u001b[0;34m\u001b[0m\u001b[0m\n\u001b[0m",
      "\u001b[0;32m~/sage-9.3-Ubuntu_20.04-x86_64/SageMath/local/lib/python3.9/site-packages/sage/misc/misc_c.pyx\u001b[0m in \u001b[0;36msage.misc.misc_c.prod (build/cythonized/sage/misc/misc_c.c:2613)\u001b[0;34m()\u001b[0m\n\u001b[1;32m    142\u001b[0m             \u001b[0;32mreturn\u001b[0m \u001b[0mz\u001b[0m\u001b[0;34m\u001b[0m\u001b[0;34m\u001b[0m\u001b[0m\n\u001b[1;32m    143\u001b[0m \u001b[0;34m\u001b[0m\u001b[0m\n\u001b[0;32m--> 144\u001b[0;31m     \u001b[0mprod\u001b[0m \u001b[0;34m=\u001b[0m \u001b[0mbalanced_list_prod\u001b[0m\u001b[0;34m(\u001b[0m\u001b[0mx\u001b[0m\u001b[0;34m,\u001b[0m \u001b[0;36m0\u001b[0m\u001b[0;34m,\u001b[0m \u001b[0mn\u001b[0m\u001b[0;34m,\u001b[0m \u001b[0mrecursion_cutoff\u001b[0m\u001b[0;34m)\u001b[0m\u001b[0;34m\u001b[0m\u001b[0;34m\u001b[0m\u001b[0m\n\u001b[0m\u001b[1;32m    145\u001b[0m \u001b[0;34m\u001b[0m\u001b[0m\n\u001b[1;32m    146\u001b[0m     \u001b[0;32mif\u001b[0m \u001b[0mz\u001b[0m \u001b[0;32mis\u001b[0m \u001b[0;32mnot\u001b[0m \u001b[0;32mNone\u001b[0m\u001b[0;34m:\u001b[0m\u001b[0;34m\u001b[0m\u001b[0;34m\u001b[0m\u001b[0m\n",
      "\u001b[0;32m~/sage-9.3-Ubuntu_20.04-x86_64/SageMath/local/lib/python3.9/site-packages/sage/misc/misc_c.pyx\u001b[0m in \u001b[0;36msage.misc.misc_c.balanced_list_prod (build/cythonized/sage/misc/misc_c.c:2797)\u001b[0;34m()\u001b[0m\n\u001b[1;32m    182\u001b[0m     \u001b[0;32melse\u001b[0m\u001b[0;34m:\u001b[0m\u001b[0;34m\u001b[0m\u001b[0;34m\u001b[0m\u001b[0m\n\u001b[1;32m    183\u001b[0m         \u001b[0mk\u001b[0m \u001b[0;34m=\u001b[0m \u001b[0;34m(\u001b[0m\u001b[0;36m1\u001b[0m \u001b[0;34m+\u001b[0m \u001b[0mcount\u001b[0m\u001b[0;34m)\u001b[0m \u001b[0;34m>>\u001b[0m \u001b[0;36m1\u001b[0m\u001b[0;34m\u001b[0m\u001b[0;34m\u001b[0m\u001b[0m\n\u001b[0;32m--> 184\u001b[0;31m         \u001b[0;32mreturn\u001b[0m \u001b[0mbalanced_list_prod\u001b[0m\u001b[0;34m(\u001b[0m\u001b[0mL\u001b[0m\u001b[0;34m,\u001b[0m \u001b[0moffset\u001b[0m\u001b[0;34m,\u001b[0m \u001b[0mk\u001b[0m\u001b[0;34m,\u001b[0m \u001b[0mcutoff\u001b[0m\u001b[0;34m)\u001b[0m \u001b[0;34m*\u001b[0m \u001b[0mbalanced_list_prod\u001b[0m\u001b[0;34m(\u001b[0m\u001b[0mL\u001b[0m\u001b[0;34m,\u001b[0m \u001b[0moffset\u001b[0m \u001b[0;34m+\u001b[0m \u001b[0mk\u001b[0m\u001b[0;34m,\u001b[0m \u001b[0mcount\u001b[0m \u001b[0;34m-\u001b[0m \u001b[0mk\u001b[0m\u001b[0;34m,\u001b[0m \u001b[0mcutoff\u001b[0m\u001b[0;34m)\u001b[0m\u001b[0;34m\u001b[0m\u001b[0;34m\u001b[0m\u001b[0m\n\u001b[0m\u001b[1;32m    185\u001b[0m \u001b[0;34m\u001b[0m\u001b[0m\n\u001b[1;32m    186\u001b[0m \u001b[0;34m\u001b[0m\u001b[0m\n",
      "\u001b[0;32m~/sage-9.3-Ubuntu_20.04-x86_64/SageMath/local/lib/python3.9/site-packages/sage/misc/misc_c.pyx\u001b[0m in \u001b[0;36msage.misc.misc_c.balanced_list_prod (build/cythonized/sage/misc/misc_c.c:2752)\u001b[0;34m()\u001b[0m\n\u001b[1;32m    178\u001b[0m         \u001b[0mprod\u001b[0m \u001b[0;34m=\u001b[0m \u001b[0;34m<\u001b[0m\u001b[0mobject\u001b[0m\u001b[0;34m>\u001b[0m\u001b[0mPySequence_Fast_GET_ITEM\u001b[0m\u001b[0;34m(\u001b[0m\u001b[0mL\u001b[0m\u001b[0;34m,\u001b[0m \u001b[0moffset\u001b[0m\u001b[0;34m)\u001b[0m\u001b[0;34m\u001b[0m\u001b[0;34m\u001b[0m\u001b[0m\n\u001b[1;32m    179\u001b[0m         \u001b[0;32mfor\u001b[0m \u001b[0mk\u001b[0m \u001b[0;32mfrom\u001b[0m \u001b[0moffset\u001b[0m \u001b[0;34m<\u001b[0m \u001b[0mk\u001b[0m \u001b[0;34m<\u001b[0m \u001b[0moffset\u001b[0m \u001b[0;34m+\u001b[0m \u001b[0mcount\u001b[0m\u001b[0;34m:\u001b[0m\u001b[0;34m\u001b[0m\u001b[0;34m\u001b[0m\u001b[0m\n\u001b[0;32m--> 180\u001b[0;31m             \u001b[0mprod\u001b[0m \u001b[0;34m*=\u001b[0m \u001b[0;34m<\u001b[0m\u001b[0mobject\u001b[0m\u001b[0;34m>\u001b[0m\u001b[0mPySequence_Fast_GET_ITEM\u001b[0m\u001b[0;34m(\u001b[0m\u001b[0mL\u001b[0m\u001b[0;34m,\u001b[0m \u001b[0mk\u001b[0m\u001b[0;34m)\u001b[0m\u001b[0;34m\u001b[0m\u001b[0;34m\u001b[0m\u001b[0m\n\u001b[0m\u001b[1;32m    181\u001b[0m         \u001b[0;32mreturn\u001b[0m \u001b[0mprod\u001b[0m\u001b[0;34m\u001b[0m\u001b[0;34m\u001b[0m\u001b[0m\n\u001b[1;32m    182\u001b[0m     \u001b[0;32melse\u001b[0m\u001b[0;34m:\u001b[0m\u001b[0;34m\u001b[0m\u001b[0;34m\u001b[0m\u001b[0m\n",
      "\u001b[0;31mTypeError\u001b[0m: can't multiply sequence by non-int of type 'str'"
     ]
    }
   ],
   "source": [
    "prod(a)"
   ]
  },
  {
   "cell_type": "markdown",
   "metadata": {},
   "source": [
    "**Apartado c**. Interpreta: `B[1:6], B[15:], B[:5],B[-1], B[2:-3]`"
   ]
  },
  {
   "cell_type": "code",
   "execution_count": 39,
   "metadata": {},
   "outputs": [
    {
     "name": "stdout",
     "output_type": "stream",
     "text": [
      "[1, 3, 5, 7, 9, 11, 13, 15, 17, 19, 21, 23, 25, 27, 29, 31, 33, 35, 37, 39]\n"
     ]
    },
    {
     "data": {
      "text/plain": [
       "[5, 7, 9, 11, 13, 15, 17, 19, 21, 23, 25, 27, 29, 31, 33]"
      ]
     },
     "execution_count": 39,
     "metadata": {},
     "output_type": "execute_result"
    }
   ],
   "source": [
    "print(B)\n",
    "B[1:6]\n",
    "B[15:]\n",
    "B[:5]\n",
    "B[-1]\n",
    "B[2:-3]"
   ]
  },
  {
   "cell_type": "markdown",
   "metadata": {},
   "source": [
    "**Apartado d.** Construye una lista cuyos elementos sean las listas `A` y `B` y aplÃ­cale la funciÃ³n `flatten`. Â¿QuÃ© ocurre? Llama `C` al resultado y cambia el decimosÃ©ptimo elemento de esa lista por $\\frac{1}{2}$."
   ]
  },
  {
   "cell_type": "code",
   "execution_count": 54,
   "metadata": {},
   "outputs": [
    {
     "name": "stdout",
     "output_type": "stream",
     "text": [
      "[[2, 4, 6, 8, 10], [1, 3, 5, 7, 9, 11, 13, 15, 17, 19, 21, 23, 25, 27, 29, 31, 33, 35, 37, 39]]\n"
     ]
    },
    {
     "data": {
      "text/plain": [
       "[2,\n",
       " 4,\n",
       " 6,\n",
       " 8,\n",
       " 10,\n",
       " 1,\n",
       " 3,\n",
       " 5,\n",
       " 7,\n",
       " 9,\n",
       " 11,\n",
       " 13,\n",
       " 15,\n",
       " 17,\n",
       " 19,\n",
       " 21,\n",
       " 1/2,\n",
       " 25,\n",
       " 27,\n",
       " 29,\n",
       " 31,\n",
       " 33,\n",
       " 35,\n",
       " 37,\n",
       " 39]"
      ]
     },
     "execution_count": 54,
     "metadata": {},
     "output_type": "execute_result"
    }
   ],
   "source": [
    "C = [A, B] #lista compuesta de dos listas\n",
    "print(C)\n",
    "C = flatten(C)\n",
    "C[16] = 1/2\n",
    "C\n"
   ]
  },
  {
   "cell_type": "markdown",
   "metadata": {},
   "source": [
    "**Problema 2.** En este problema vamos a tratar con matrices y vectores, de nÃºmeros enteros, racionales, reales, etc. Empecemos por el modo de definir una matriz.\n",
    "\n",
    "Antes de empezar, utilizamos la funciÃ³n `reset()` para borrar el problema anterior de la memoria."
   ]
  },
  {
   "cell_type": "code",
   "execution_count": 55,
   "metadata": {},
   "outputs": [],
   "source": [
    "reset()"
   ]
  },
  {
   "cell_type": "markdown",
   "metadata": {},
   "source": [
    "Matrices como listas de listas"
   ]
  },
  {
   "cell_type": "code",
   "execution_count": 56,
   "metadata": {},
   "outputs": [
    {
     "data": {
      "text/html": [
       "<html><script type=\"math/tex; mode=display\">\\newcommand{\\Bold}[1]{\\mathbf{#1}}\\left(\\begin{array}{rrrrr}\n",
       "2 & -3 & 1 & 3 & 0 \\\\\n",
       "5 & 0 & -\\frac{3}{2} & 4 & 1 \\\\\n",
       "0 & 0 & 2 & 1 & 3\n",
       "\\end{array}\\right)</script></html>"
      ],
      "text/latex": [
       "$$\\newcommand{\\Bold}[1]{\\mathbf{#1}}\\left(\\begin{array}{rrrrr}\n",
       "2 & -3 & 1 & 3 & 0 \\\\\n",
       "5 & 0 & -\\frac{3}{2} & 4 & 1 \\\\\n",
       "0 & 0 & 2 & 1 & 3\n",
       "\\end{array}\\right)$$"
      ],
      "text/plain": [
       "[   2   -3    1    3    0]\n",
       "[   5    0 -3/2    4    1]\n",
       "[   0    0    2    1    3]"
      ]
     },
     "metadata": {},
     "output_type": "display_data"
    }
   ],
   "source": [
    "A1=Matrix([[2,-3,1,3,0],[5,0,-3/2,4,1],[0,0,2,1,3]])\n",
    "show(A1)"
   ]
  },
  {
   "cell_type": "markdown",
   "metadata": {},
   "source": [
    "Si os marean los corchetes se puede presentar como una sola lista pero entonces hay que dar el nÃºmero de filas y columnas (o solo de filas). Por supuesto, los datos deben ser coherentes, si no darÃ¡ error."
   ]
  },
  {
   "cell_type": "code",
   "execution_count": 57,
   "metadata": {},
   "outputs": [
    {
     "data": {
      "text/plain": [
       "True"
      ]
     },
     "execution_count": 57,
     "metadata": {},
     "output_type": "execute_result"
    }
   ],
   "source": [
    "A1==Matrix(3,5,[2,-3,1,3,0,5,0,-3/2,4,1,0,0,2,1,3])"
   ]
  },
  {
   "cell_type": "code",
   "execution_count": 58,
   "metadata": {},
   "outputs": [
    {
     "data": {
      "text/plain": [
       "True"
      ]
     },
     "execution_count": 58,
     "metadata": {},
     "output_type": "execute_result"
    }
   ],
   "source": [
    "A1==Matrix(3,[2,-3,1,3,0,5,0,-3/2,4,1,0,0,2,1,3])"
   ]
  },
  {
   "cell_type": "markdown",
   "metadata": {},
   "source": [
    "Para acceder a los elementos de una matriz `A` utilizamos dos Ã­ndices. \n",
    "\n",
    "**Â¡Cuidado!** Recuerda que las numeraciones empiezan por $0$ por lo que lo que si `A` es una matriz $n\\times m$ y denotamos $a_{i j}$ el elemento que estÃ¡ en la $i$-Ã©sima fila y $j$-Ã©sima columna, este se verÃ¡ en `SAGEMATH`  como `A[i-1,j-1]`. Dicho de otra manera, el elemento `A[u,v]` es $a_{u+1,v+1}$. Como en las listas, se puede cambiar algÃºn elemento de la matriz."
   ]
  },
  {
   "cell_type": "code",
   "execution_count": 59,
   "metadata": {},
   "outputs": [
    {
     "data": {
      "text/plain": [
       "-3/2"
      ]
     },
     "execution_count": 59,
     "metadata": {},
     "output_type": "execute_result"
    }
   ],
   "source": [
    "A1[1,2]"
   ]
  },
  {
   "cell_type": "code",
   "execution_count": 60,
   "metadata": {},
   "outputs": [
    {
     "data": {
      "text/html": [
       "<html><script type=\"math/tex; mode=display\">\\newcommand{\\Bold}[1]{\\mathbf{#1}}\\left(\\begin{array}{rrrrr}\n",
       "2 & -3 & 1 & 3 & 0 \\\\\n",
       "5 & 0 & -9 & 4 & 1 \\\\\n",
       "0 & 0 & 2 & 1 & 3\n",
       "\\end{array}\\right)</script></html>"
      ],
      "text/latex": [
       "$$\\newcommand{\\Bold}[1]{\\mathbf{#1}}\\left(\\begin{array}{rrrrr}\n",
       "2 & -3 & 1 & 3 & 0 \\\\\n",
       "5 & 0 & -9 & 4 & 1 \\\\\n",
       "0 & 0 & 2 & 1 & 3\n",
       "\\end{array}\\right)$$"
      ],
      "text/plain": [
       "[ 2 -3  1  3  0]\n",
       "[ 5  0 -9  4  1]\n",
       "[ 0  0  2  1  3]"
      ]
     },
     "metadata": {},
     "output_type": "display_data"
    }
   ],
   "source": [
    "A1[1,2]=6*A1[1,2]\n",
    "show(A1)"
   ]
  },
  {
   "cell_type": "markdown",
   "metadata": {},
   "source": [
    "Si los elementos de una matriz siguen una ley, se puede definir usando la funciÃ³n `lambda`."
   ]
  },
  {
   "cell_type": "code",
   "execution_count": 63,
   "metadata": {},
   "outputs": [
    {
     "data": {
      "text/html": [
       "<html><script type=\"math/tex; mode=display\">\\newcommand{\\Bold}[1]{\\mathbf{#1}}\\left(\\begin{array}{rrrr}\n",
       "1 & 1 & 1 & 1 \\\\\n",
       "1 & 2 & 4 & 8 \\\\\n",
       "1 & 3 & 9 & 27 \\\\\n",
       "1 & 4 & 16 & 64\n",
       "\\end{array}\\right)</script></html>"
      ],
      "text/latex": [
       "$$\\newcommand{\\Bold}[1]{\\mathbf{#1}}\\left(\\begin{array}{rrrr}\n",
       "1 & 1 & 1 & 1 \\\\\n",
       "1 & 2 & 4 & 8 \\\\\n",
       "1 & 3 & 9 & 27 \\\\\n",
       "1 & 4 & 16 & 64\n",
       "\\end{array}\\right)$$"
      ],
      "text/plain": [
       "[ 1  1  1  1]\n",
       "[ 1  2  4  8]\n",
       "[ 1  3  9 27]\n",
       "[ 1  4 16 64]"
      ]
     },
     "metadata": {},
     "output_type": "display_data"
    }
   ],
   "source": [
    "A2=Matrix(4,4,lambda i,j:(i+1)^j)\n",
    "show(A2)"
   ]
  },
  {
   "cell_type": "markdown",
   "metadata": {},
   "source": [
    "Ahora mostramos cÃ³mo construir algunas matrices especiales."
   ]
  },
  {
   "cell_type": "code",
   "execution_count": 64,
   "metadata": {},
   "outputs": [
    {
     "data": {
      "text/html": [
       "<html><script type=\"math/tex; mode=display\">\\newcommand{\\Bold}[1]{\\mathbf{#1}}\\left(\\begin{array}{rrrr}\n",
       "0 & 0 & 0 & 0 \\\\\n",
       "0 & 0 & 0 & 0 \\\\\n",
       "0 & 0 & 0 & 0\n",
       "\\end{array}\\right)</script></html>"
      ],
      "text/latex": [
       "$$\\newcommand{\\Bold}[1]{\\mathbf{#1}}\\left(\\begin{array}{rrrr}\n",
       "0 & 0 & 0 & 0 \\\\\n",
       "0 & 0 & 0 & 0 \\\\\n",
       "0 & 0 & 0 & 0\n",
       "\\end{array}\\right)$$"
      ],
      "text/plain": [
       "[0 0 0 0]\n",
       "[0 0 0 0]\n",
       "[0 0 0 0]"
      ]
     },
     "metadata": {},
     "output_type": "display_data"
    }
   ],
   "source": [
    "show(Matrix(3,4))"
   ]
  },
  {
   "cell_type": "code",
   "execution_count": 65,
   "metadata": {},
   "outputs": [
    {
     "data": {
      "text/html": [
       "<html><script type=\"math/tex; mode=display\">\\newcommand{\\Bold}[1]{\\mathbf{#1}}\\left(\\begin{array}{rrrr}\n",
       "1 & 1 & 1 & 1 \\\\\n",
       "1 & 1 & 1 & 1 \\\\\n",
       "1 & 1 & 1 & 1\n",
       "\\end{array}\\right)</script></html>"
      ],
      "text/latex": [
       "$$\\newcommand{\\Bold}[1]{\\mathbf{#1}}\\left(\\begin{array}{rrrr}\n",
       "1 & 1 & 1 & 1 \\\\\n",
       "1 & 1 & 1 & 1 \\\\\n",
       "1 & 1 & 1 & 1\n",
       "\\end{array}\\right)$$"
      ],
      "text/plain": [
       "[1 1 1 1]\n",
       "[1 1 1 1]\n",
       "[1 1 1 1]"
      ]
     },
     "metadata": {},
     "output_type": "display_data"
    }
   ],
   "source": [
    "show(Matrix(3,4,12*[1]))"
   ]
  },
  {
   "cell_type": "code",
   "execution_count": 66,
   "metadata": {},
   "outputs": [
    {
     "data": {
      "text/html": [
       "<html><script type=\"math/tex; mode=display\">\\newcommand{\\Bold}[1]{\\mathbf{#1}}\\left(\\begin{array}{rr}\n",
       "1 & 0 \\\\\n",
       "0 & 1\n",
       "\\end{array}\\right)</script></html>"
      ],
      "text/latex": [
       "$$\\newcommand{\\Bold}[1]{\\mathbf{#1}}\\left(\\begin{array}{rr}\n",
       "1 & 0 \\\\\n",
       "0 & 1\n",
       "\\end{array}\\right)$$"
      ],
      "text/plain": [
       "[1 0]\n",
       "[0 1]"
      ]
     },
     "metadata": {},
     "output_type": "display_data"
    }
   ],
   "source": [
    "show(identity_matrix(2))"
   ]
  },
  {
   "cell_type": "code",
   "execution_count": 70,
   "metadata": {},
   "outputs": [
    {
     "data": {
      "text/plain": [
       "(2, 5, -1)"
      ]
     },
     "execution_count": 70,
     "metadata": {},
     "output_type": "execute_result"
    }
   ],
   "source": [
    "vector([2,5,-1])"
   ]
  },
  {
   "cell_type": "markdown",
   "metadata": {},
   "source": [
    "**Apartado a.** Define las matrices\n",
    "\n",
    "$$A=\\begin{pmatrix}2&1&0&-3\\\\-1&1&2&0\\\\4&-8&1&1\\end{pmatrix},$$ `B` como la matriz identidad y `C` una matriz cuyas entradas son todas iguales a $1$ (ambas $3\\times 3$).\n",
    "\n",
    "Realiza todas las sumas y productos que puedas."
   ]
  },
  {
   "cell_type": "code",
   "execution_count": 2,
   "metadata": {},
   "outputs": [
    {
     "data": {
      "text/html": [
       "<html><script type=\"math/tex; mode=display\">\\newcommand{\\Bold}[1]{\\mathbf{#1}}\\left(\\begin{array}{rrrr}\n",
       "2 & 1 & 0 & -3 \\\\\n",
       "-1 & 1 & 2 & 0 \\\\\n",
       "4 & -8 & 1 & 1\n",
       "\\end{array}\\right)</script></html>"
      ],
      "text/latex": [
       "$$\\newcommand{\\Bold}[1]{\\mathbf{#1}}\\left(\\begin{array}{rrrr}\n",
       "2 & 1 & 0 & -3 \\\\\n",
       "-1 & 1 & 2 & 0 \\\\\n",
       "4 & -8 & 1 & 1\n",
       "\\end{array}\\right)$$"
      ],
      "text/plain": [
       "[ 2  1  0 -3]\n",
       "[-1  1  2  0]\n",
       "[ 4 -8  1  1]"
      ]
     },
     "metadata": {},
     "output_type": "display_data"
    },
    {
     "data": {
      "text/html": [
       "<html><script type=\"math/tex; mode=display\">\\newcommand{\\Bold}[1]{\\mathbf{#1}}\\left(\\begin{array}{rrr}\n",
       "1 & 0 & 0 \\\\\n",
       "0 & 1 & 0 \\\\\n",
       "0 & 0 & 1\n",
       "\\end{array}\\right)</script></html>"
      ],
      "text/latex": [
       "$$\\newcommand{\\Bold}[1]{\\mathbf{#1}}\\left(\\begin{array}{rrr}\n",
       "1 & 0 & 0 \\\\\n",
       "0 & 1 & 0 \\\\\n",
       "0 & 0 & 1\n",
       "\\end{array}\\right)$$"
      ],
      "text/plain": [
       "[1 0 0]\n",
       "[0 1 0]\n",
       "[0 0 1]"
      ]
     },
     "metadata": {},
     "output_type": "display_data"
    },
    {
     "data": {
      "text/html": [
       "<html><script type=\"math/tex; mode=display\">\\newcommand{\\Bold}[1]{\\mathbf{#1}}\\left(\\begin{array}{rrr}\n",
       "1 & 1 & 1 \\\\\n",
       "1 & 1 & 1 \\\\\n",
       "1 & 1 & 1\n",
       "\\end{array}\\right)</script></html>"
      ],
      "text/latex": [
       "$$\\newcommand{\\Bold}[1]{\\mathbf{#1}}\\left(\\begin{array}{rrr}\n",
       "1 & 1 & 1 \\\\\n",
       "1 & 1 & 1 \\\\\n",
       "1 & 1 & 1\n",
       "\\end{array}\\right)$$"
      ],
      "text/plain": [
       "[1 1 1]\n",
       "[1 1 1]\n",
       "[1 1 1]"
      ]
     },
     "metadata": {},
     "output_type": "display_data"
    },
    {
     "data": {
      "text/html": [
       "<html><script type=\"math/tex; mode=display\">\\newcommand{\\Bold}[1]{\\mathbf{#1}}\\left(\\begin{array}{rrr}\n",
       "2 & 1 & 1 \\\\\n",
       "1 & 2 & 1 \\\\\n",
       "1 & 1 & 2\n",
       "\\end{array}\\right)</script></html>"
      ],
      "text/latex": [
       "$$\\newcommand{\\Bold}[1]{\\mathbf{#1}}\\left(\\begin{array}{rrr}\n",
       "2 & 1 & 1 \\\\\n",
       "1 & 2 & 1 \\\\\n",
       "1 & 1 & 2\n",
       "\\end{array}\\right)$$"
      ],
      "text/plain": [
       "[2 1 1]\n",
       "[1 2 1]\n",
       "[1 1 2]"
      ]
     },
     "metadata": {},
     "output_type": "display_data"
    },
    {
     "data": {
      "text/html": [
       "<html><script type=\"math/tex; mode=display\">\\newcommand{\\Bold}[1]{\\mathbf{#1}}\\left(\\begin{array}{rrrr}\n",
       "2 & 1 & 0 & -3 \\\\\n",
       "-1 & 1 & 2 & 0 \\\\\n",
       "4 & -8 & 1 & 1\n",
       "\\end{array}\\right)</script></html>"
      ],
      "text/latex": [
       "$$\\newcommand{\\Bold}[1]{\\mathbf{#1}}\\left(\\begin{array}{rrrr}\n",
       "2 & 1 & 0 & -3 \\\\\n",
       "-1 & 1 & 2 & 0 \\\\\n",
       "4 & -8 & 1 & 1\n",
       "\\end{array}\\right)$$"
      ],
      "text/plain": [
       "[ 2  1  0 -3]\n",
       "[-1  1  2  0]\n",
       "[ 4 -8  1  1]"
      ]
     },
     "metadata": {},
     "output_type": "display_data"
    },
    {
     "data": {
      "text/html": [
       "<html><script type=\"math/tex; mode=display\">\\newcommand{\\Bold}[1]{\\mathbf{#1}}\\left(\\begin{array}{rrr}\n",
       "1 & 1 & 1 \\\\\n",
       "1 & 1 & 1 \\\\\n",
       "1 & 1 & 1\n",
       "\\end{array}\\right)</script></html>"
      ],
      "text/latex": [
       "$$\\newcommand{\\Bold}[1]{\\mathbf{#1}}\\left(\\begin{array}{rrr}\n",
       "1 & 1 & 1 \\\\\n",
       "1 & 1 & 1 \\\\\n",
       "1 & 1 & 1\n",
       "\\end{array}\\right)$$"
      ],
      "text/plain": [
       "[1 1 1]\n",
       "[1 1 1]\n",
       "[1 1 1]"
      ]
     },
     "metadata": {},
     "output_type": "display_data"
    },
    {
     "data": {
      "text/html": [
       "<html><script type=\"math/tex; mode=display\">\\newcommand{\\Bold}[1]{\\mathbf{#1}}\\left(\\begin{array}{rrr}\n",
       "1 & 1 & 1 \\\\\n",
       "1 & 1 & 1 \\\\\n",
       "1 & 1 & 1\n",
       "\\end{array}\\right)</script></html>"
      ],
      "text/latex": [
       "$$\\newcommand{\\Bold}[1]{\\mathbf{#1}}\\left(\\begin{array}{rrr}\n",
       "1 & 1 & 1 \\\\\n",
       "1 & 1 & 1 \\\\\n",
       "1 & 1 & 1\n",
       "\\end{array}\\right)$$"
      ],
      "text/plain": [
       "[1 1 1]\n",
       "[1 1 1]\n",
       "[1 1 1]"
      ]
     },
     "metadata": {},
     "output_type": "display_data"
    }
   ],
   "source": [
    "reset()\n",
    "A = Matrix(([2,1,0,-3],[-1,1,2,0],[4,-8,1,1]))\n",
    "show(A)\n",
    "B = identity_matrix(3)\n",
    "show(B)\n",
    "C = Matrix(3, 3, 9*[1])\n",
    "show(C)\n",
    "\n",
    "show(B+C)\n",
    "show(B*A)\n",
    "show(B*C)\n",
    "show(C*B)"
   ]
  },
  {
   "cell_type": "markdown",
   "metadata": {},
   "source": [
    "**Apartado b.** Sean $v=(2,1,-3,5,7)$ y $w=(0,1,0)$. Realiza los productos que puedas con las matrices anteriores e intepreta los resultados."
   ]
  },
  {
   "cell_type": "code",
   "execution_count": 3,
   "metadata": {},
   "outputs": [
    {
     "data": {
      "text/html": [
       "<html><script type=\"math/tex; mode=display\">\\newcommand{\\Bold}[1]{\\mathbf{#1}}\\left(0,\\,1,\\,0\\right)</script></html>"
      ],
      "text/latex": [
       "$$\\newcommand{\\Bold}[1]{\\mathbf{#1}}\\left(0,\\,1,\\,0\\right)$$"
      ],
      "text/plain": [
       "(0, 1, 0)"
      ]
     },
     "metadata": {},
     "output_type": "display_data"
    },
    {
     "data": {
      "text/html": [
       "<html><script type=\"math/tex; mode=display\">\\newcommand{\\Bold}[1]{\\mathbf{#1}}\\left(1,\\,1,\\,1\\right)</script></html>"
      ],
      "text/latex": [
       "$$\\newcommand{\\Bold}[1]{\\mathbf{#1}}\\left(1,\\,1,\\,1\\right)$$"
      ],
      "text/plain": [
       "(1, 1, 1)"
      ]
     },
     "metadata": {},
     "output_type": "display_data"
    },
    {
     "data": {
      "text/html": [
       "<html><script type=\"math/tex; mode=display\">\\newcommand{\\Bold}[1]{\\mathbf{#1}}\\left(1,\\,2,\\,1\\right)</script></html>"
      ],
      "text/latex": [
       "$$\\newcommand{\\Bold}[1]{\\mathbf{#1}}\\left(1,\\,2,\\,1\\right)$$"
      ],
      "text/plain": [
       "(1, 2, 1)"
      ]
     },
     "metadata": {},
     "output_type": "display_data"
    },
    {
     "data": {
      "text/html": [
       "<html><script type=\"math/tex; mode=display\">\\newcommand{\\Bold}[1]{\\mathbf{#1}}\\left(1,\\,1,\\,1\\right)</script></html>"
      ],
      "text/latex": [
       "$$\\newcommand{\\Bold}[1]{\\mathbf{#1}}\\left(1,\\,1,\\,1\\right)$$"
      ],
      "text/plain": [
       "(1, 1, 1)"
      ]
     },
     "metadata": {},
     "output_type": "display_data"
    },
    {
     "data": {
      "text/html": [
       "<html><script type=\"math/tex; mode=display\">\\newcommand{\\Bold}[1]{\\mathbf{#1}}\\left(-1,\\,1,\\,2,\\,0\\right)</script></html>"
      ],
      "text/latex": [
       "$$\\newcommand{\\Bold}[1]{\\mathbf{#1}}\\left(-1,\\,1,\\,2,\\,0\\right)$$"
      ],
      "text/plain": [
       "(-1, 1, 2, 0)"
      ]
     },
     "metadata": {},
     "output_type": "display_data"
    }
   ],
   "source": [
    "w = vector([0,1,0])\n",
    "show(w * B)\n",
    "show(w * C)\n",
    "show(w * (B+C))\n",
    "show(w * (B*C))\n",
    "show(w * (B*A))"
   ]
  },
  {
   "cell_type": "markdown",
   "metadata": {},
   "source": [
    "\n",
    "**Problema 3.** En **SAGE** tambiÃ©n podemos usar programaciÃ³n: bucles, condicionales, funciones. Los bloques de estas Ã³rdenes se distinguen mediante sangrados. Veamos algÃºn ejemplo."
   ]
  },
  {
   "cell_type": "code",
   "execution_count": 86,
   "metadata": {},
   "outputs": [
    {
     "data": {
      "text/plain": [
       "[0, 1, 4, 9, 16, 25, 36, 49, 64, 81, 100]"
      ]
     },
     "execution_count": 86,
     "metadata": {},
     "output_type": "execute_result"
    }
   ],
   "source": [
    "aa=[]\n",
    "for n in range(11):\n",
    "    aa=aa+[n^2]\n",
    "aa"
   ]
  },
  {
   "cell_type": "code",
   "execution_count": 88,
   "metadata": {},
   "outputs": [
    {
     "name": "stdout",
     "output_type": "stream",
     "text": [
      "[0]\n",
      "[0, 1]\n",
      "[0, 1, 4]\n",
      "[0, 1, 4, 9]\n",
      "[0, 1, 4, 9, 16]\n",
      "[0, 1, 4, 9, 16, 25]\n",
      "[0, 1, 4, 9, 16, 25, 36]\n",
      "[0, 1, 4, 9, 16, 25, 36, 49]\n",
      "[0, 1, 4, 9, 16, 25, 36, 49, 64]\n",
      "[0, 1, 4, 9, 16, 25, 36, 49, 64, 81]\n",
      "[0, 1, 4, 9, 16, 25, 36, 49, 64, 81, 100]\n"
     ]
    }
   ],
   "source": [
    "aa=[]\n",
    "for n in range(11):\n",
    "    aa=aa+[n^2]\n",
    "    print(aa)"
   ]
  },
  {
   "cell_type": "code",
   "execution_count": 91,
   "metadata": {},
   "outputs": [
    {
     "name": "stdout",
     "output_type": "stream",
     "text": [
      "0  es mÃºltiplo de 3\n",
      "1  no es ni mÃºltiplo de 3 ni par\n",
      "2  es par\n",
      "3  es mÃºltiplo de 3\n",
      "4  es par\n",
      "5  no es ni mÃºltiplo de 3 ni par\n",
      "6  es mÃºltiplo de 3\n",
      "7  no es ni mÃºltiplo de 3 ni par\n",
      "8  es par\n",
      "9  es mÃºltiplo de 3\n",
      "10  es par\n",
      "11  no es ni mÃºltiplo de 3 ni par\n",
      "12  es mÃºltiplo de 3\n",
      "13  no es ni mÃºltiplo de 3 ni par\n",
      "14  es par\n"
     ]
    }
   ],
   "source": [
    "for i in range(15):\n",
    "    if i%3==0:\n",
    "        print ((i),\" es mÃºltiplo de 3\")\n",
    "    elif i%2==0:\n",
    "        print ((i),\" es par\")\n",
    "    else:\n",
    "        print ((i),\" no es ni mÃºltiplo de 3 ni par\")"
   ]
  },
  {
   "cell_type": "markdown",
   "metadata": {},
   "source": [
    "**Apartado a.** En las operaciones lÃ³gicas se pueden usar las funciones `not`, `and`, `or`. Mejora con ellas el condicional anterior."
   ]
  },
  {
   "cell_type": "code",
   "execution_count": 4,
   "metadata": {},
   "outputs": [
    {
     "name": "stdout",
     "output_type": "stream",
     "text": [
      "0  es múltiplo de 3 y par\n",
      "1 no es ni múltiplo de 3 ni par\n",
      "2  es par\n",
      "3  es múltiplo de 3\n",
      "4  es par\n",
      "5 no es ni múltiplo de 3 ni par\n",
      "6  es múltiplo de 3 y par\n",
      "7 no es ni múltiplo de 3 ni par\n",
      "8  es par\n",
      "9  es múltiplo de 3\n",
      "10  es par\n",
      "11 no es ni múltiplo de 3 ni par\n",
      "12  es múltiplo de 3 y par\n",
      "13 no es ni múltiplo de 3 ni par\n",
      "14  es par\n"
     ]
    }
   ],
   "source": [
    "for i in range(15):\n",
    "    if i%3==0 and i%2==0:\n",
    "        print((i), \" es múltiplo de 3 y par\")\n",
    "    elif i%3==0:\n",
    "        print((i), \" es múltiplo de 3\")\n",
    "    elif i%2==0:\n",
    "        print((i), \" es par\")\n",
    "    else:\n",
    "        print((i), \"no es ni múltiplo de 3 ni par\")"
   ]
  },
  {
   "cell_type": "markdown",
   "metadata": {},
   "source": [
    "**Apartado b.** La siguiente funciÃ³n realiza la divisiÃ³n de dos nÃºmeros enteros (positivos). EvalÃºala en ejemplos, comprueba si estÃ¡ bien, y si no lo estÃ¡, corrige."
   ]
  },
  {
   "cell_type": "code",
   "execution_count": 7,
   "metadata": {},
   "outputs": [],
   "source": [
    "def dividir(n,m):\n",
    "    a=n\n",
    "    b=m\n",
    "    q=0      \n",
    "    while a>=b:  #Estaba mal el mayor estricto, hay q poner mayor O IGUAL\n",
    "        q=q+1\n",
    "        a=a-b\n",
    "    print(q.str()+' es el cociente y '+a.str()+' es el resto')\n",
    "    return [q,a]"
   ]
  },
  {
   "cell_type": "code",
   "execution_count": 9,
   "metadata": {},
   "outputs": [
    {
     "name": "stdout",
     "output_type": "stream",
     "text": [
      "5 es el cociente y 0 es el resto\n",
      "9 es el cociente y 0 es el resto\n"
     ]
    },
    {
     "data": {
      "text/plain": [
       "[9, 0]"
      ]
     },
     "execution_count": 9,
     "metadata": {},
     "output_type": "execute_result"
    }
   ],
   "source": [
    "dividir(10, 2)\n",
    "dividir(45, 5)"
   ]
  },
  {
   "cell_type": "markdown",
   "metadata": {},
   "source": [
    "**Problema 4.** **SAGE** tiene una orden para calcular el mÃ¡ximo comÃºn divisor (pensad en inglÃ©s). Vamos a hacerlo paso a paso en un ejemplo y luego intenta definir una funciÃ³n."
   ]
  },
  {
   "cell_type": "code",
   "execution_count": 11,
   "metadata": {},
   "outputs": [],
   "source": [
    "u=2198\n",
    "v=258"
   ]
  },
  {
   "cell_type": "markdown",
   "metadata": {},
   "source": [
    "Recordemos que el mÃ¡ximo comÃºn divisor de dos nÃºmeros es el mismo que el del segundo y el del resto de la divisiÃ³n del primero por el segundo. Vamos a usarlo, sin perder los nÃºmeros originales."
   ]
  },
  {
   "cell_type": "code",
   "execution_count": 12,
   "metadata": {},
   "outputs": [
    {
     "data": {
      "text/plain": [
       "(2198, 258)"
      ]
     },
     "execution_count": 12,
     "metadata": {},
     "output_type": "execute_result"
    }
   ],
   "source": [
    "u0=u\n",
    "v0=v\n",
    "u0,v0"
   ]
  },
  {
   "cell_type": "markdown",
   "metadata": {},
   "source": [
    "Usamos una caracterÃ­stica de `SAGEMATH/PYTHON` para asignar variables a una lista."
   ]
  },
  {
   "cell_type": "code",
   "execution_count": 13,
   "metadata": {},
   "outputs": [
    {
     "data": {
      "text/plain": [
       "(258, 134)"
      ]
     },
     "execution_count": 13,
     "metadata": {},
     "output_type": "execute_result"
    }
   ],
   "source": [
    "u0,v0=[v0,u0%v0]\n",
    "u0,v0"
   ]
  },
  {
   "cell_type": "code",
   "execution_count": 14,
   "metadata": {},
   "outputs": [
    {
     "data": {
      "text/plain": [
       "(134, 124)"
      ]
     },
     "execution_count": 14,
     "metadata": {},
     "output_type": "execute_result"
    }
   ],
   "source": [
    "u0,v0=[v0,u0%v0]\n",
    "u0,v0"
   ]
  },
  {
   "cell_type": "code",
   "execution_count": 15,
   "metadata": {},
   "outputs": [
    {
     "data": {
      "text/plain": [
       "(124, 10)"
      ]
     },
     "execution_count": 15,
     "metadata": {},
     "output_type": "execute_result"
    }
   ],
   "source": [
    "u0,v0=[v0,u0%v0]\n",
    "u0,v0"
   ]
  },
  {
   "cell_type": "code",
   "execution_count": 16,
   "metadata": {},
   "outputs": [
    {
     "data": {
      "text/plain": [
       "(10, 4)"
      ]
     },
     "execution_count": 16,
     "metadata": {},
     "output_type": "execute_result"
    }
   ],
   "source": [
    "u0,v0=[v0,u0%v0]\n",
    "u0,v0"
   ]
  },
  {
   "cell_type": "code",
   "execution_count": 17,
   "metadata": {},
   "outputs": [
    {
     "data": {
      "text/plain": [
       "(4, 2)"
      ]
     },
     "execution_count": 17,
     "metadata": {},
     "output_type": "execute_result"
    }
   ],
   "source": [
    "u0,v0=[v0,u0%v0]\n",
    "u0,v0"
   ]
  },
  {
   "cell_type": "code",
   "execution_count": 18,
   "metadata": {},
   "outputs": [
    {
     "data": {
      "text/plain": [
       "(2, 0)"
      ]
     },
     "execution_count": 18,
     "metadata": {},
     "output_type": "execute_result"
    }
   ],
   "source": [
    "u0,v0=[v0,u0%v0]\n",
    "u0,v0"
   ]
  },
  {
   "cell_type": "markdown",
   "metadata": {},
   "source": [
    "Como $v_0=0$, entonces $u_0=2$ es el mÃ¡ximo comÃºn divisor de los nÃºmeros anteriores."
   ]
  },
  {
   "cell_type": "markdown",
   "metadata": {},
   "source": [
    "**Problema 4**\n",
    "\n",
    "Escribe una funciÃ³n que calcule el mÃ¡ximo comÃºn divisor de dos nÃºmeros automatizando en proceso seguido en el ejemplo anterior."
   ]
  },
  {
   "cell_type": "code",
   "execution_count": 1,
   "metadata": {},
   "outputs": [],
   "source": [
    "def mcd(a, b):\n",
    "    u0 = a\n",
    "    v0 = b\n",
    "    while v0 != 0:\n",
    "        u0, v0 = [v0, u0%v0]\n",
    "    print ((u0), \"es el máximo común divisor de \", a, \" y \", b)"
   ]
  },
  {
   "cell_type": "code",
   "execution_count": 7,
   "metadata": {},
   "outputs": [
    {
     "name": "stdout",
     "output_type": "stream",
     "text": [
      "2 es el máximo común divisor de  2198  y  258\n",
      "1 es el máximo común divisor de  5003  y  4017\n"
     ]
    }
   ],
   "source": [
    "mcd(2198, 258)\n",
    "mcd(5003, 4017)"
   ]
  },
  {
   "cell_type": "code",
   "execution_count": null,
   "metadata": {},
   "outputs": [],
   "source": []
  }
 ],
 "metadata": {
  "kernelspec": {
   "display_name": "SageMath 9.3",
   "language": "sage",
   "name": "sagemath"
  },
  "language_info": {
   "codemirror_mode": {
    "name": "ipython",
    "version": 3
   },
   "file_extension": ".py",
   "mimetype": "text/x-python",
   "name": "python",
   "nbconvert_exporter": "python",
   "pygments_lexer": "ipython3",
   "version": "3.9.2"
  }
 },
 "nbformat": 4,
 "nbformat_minor": 4
}
